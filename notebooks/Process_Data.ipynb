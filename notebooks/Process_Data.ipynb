{
 "cells": [
  {
   "cell_type": "code",
   "execution_count": 121,
   "metadata": {},
   "outputs": [],
   "source": [
    "# DataFrame manipulation\n",
    "import pandas as pd\n",
    "# Writing to parquet\n",
    "import pyarrow as pa\n",
    "import pyarrow.parquet as pq\n",
    "from typing import Sequence\n",
    "\n",
    "def save_to_parquet(\n",
    "    data: pd.DataFrame, cols: Sequence[str], loc: str, filename: str\n",
    ") -> None:\n",
    "    \"\"\"Save the processed dataframes into parquet files.\n",
    "\n",
    "    Args:\n",
    "        data (pd.DataFrame): Input Pandas DataFrame.\n",
    "        cols (Sequence[str]): Column names.\n",
    "        loc (str): Folder location.\n",
    "        filename (str): Filename.\n",
    "    \"\"\"\n",
    "    schema = pa.schema({val: pa.string() for val in cols})\n",
    "    table = pa.Table.from_pandas(data, schema=schema)\n",
    "    pq.write_table(\n",
    "        table, where=f\"{loc}{filename}.parquet\", compression=\"snappy\",\n",
    "    )"
   ]
  },
  {
   "cell_type": "markdown",
   "metadata": {},
   "source": [
    "# Load Data And Pre-Process Columns"
   ]
  },
  {
   "cell_type": "code",
   "execution_count": 2,
   "metadata": {
    "scrolled": true
   },
   "outputs": [
    {
     "name": "stderr",
     "output_type": "stream",
     "text": [
      "/home/ski/anaconda3/lib/python3.9/site-packages/IPython/core/interactiveshell.py:3444: DtypeWarning: Columns (9) have mixed types.Specify dtype option on import or set low_memory=False.\n",
      "  exec(code_obj, self.user_global_ns, self.user_ns)\n"
     ]
    }
   ],
   "source": [
    "# Prepping dataframe\n",
    "df = pd.read_csv(\"../data/complaints.csv\")\n",
    "\n",
    "# Use same year as comparison\n",
    "df = df[df[\"Date received\"].str.contains(\"2020\")]\n",
    "df.loc[:, \"State\"] = df[\"State\"].fillna(\"ZZ\")\n",
    "\n",
    "df = df.rename(\n",
    "    columns={\n",
    "        \"Product\": \"label\",\n",
    "        \"Consumer complaint narrative\": \"narrative\",\n",
    "        \"Issue\": \"issue\",\n",
    "        \"Sub-issue\": \"sub_issue\",\n",
    "        \"Company\": \"company\",\n",
    "        \"Company public response\": \"company_response\",\n",
    "        \"Tags\": \"tags\",\n",
    "        \"State\": \"state\",\n",
    "        \"Complaint ID\": \"id\",\n",
    "    }\n",
    ")\n",
    "df.loc[:, \"narrative_na\"] = df[\"narrative\"].isna()\n",
    "df = df.reset_index(drop=True)\n",
    "df.loc[:, \"node_id\"] = df.index\n",
    "df = df[\n",
    "    [\n",
    "        \"id\",\n",
    "        \"node_id\",\n",
    "        \"label\",\n",
    "        \"narrative\",\n",
    "        \"issue\",\n",
    "        \"sub_issue\",\n",
    "        \"company\",\n",
    "        \"company_response\",\n",
    "        \"tags\",\n",
    "        \"state\",\n",
    "        \"narrative_na\",\n",
    "    ]\n",
    "]\n",
    "df[\"label\"].replace(\n",
    "    {\n",
    "        \"Credit reporting, credit repair services, or other personal consumer reports\": \"credit_reporting\",\n",
    "        \"Debt collection\": \"debt_collection\",\n",
    "        \"Credit reporting\": \"credit_reporting\",\n",
    "        \"Credit card or prepaid card\": \"credit_card\",\n",
    "        \"Prepaid card\": \"credit_card\",\n",
    "        \"Credit card\": \"credit_card\",\n",
    "        \"Mortgage\": \"mortgages_and_loans\",\n",
    "        \"Checking or savings account\": \"retail_banking\",\n",
    "        \"Money transfer, virtual currency, or money service\": \"retail_banking\",\n",
    "        \"Money transfers\": \"retail_banking\",\n",
    "        \"Virtual currency\": \"retail_banking\",\n",
    "        \"Bank account or service\": \"retail_banking\",\n",
    "        \"Vehicle loan or lease\": \"mortgages_and_loans\",\n",
    "        \"Payday loan, title loan, or personal loan\": \"mortgages_and_loans\",\n",
    "        \"Consumer Loan\": \"mortgages_and_loans\",\n",
    "        \"Payday loan\": \"mortgages_and_loans\",\n",
    "        \"Student loan\": \"mortgages_and_loans\",\n",
    "    },\n",
    "    inplace=True,\n",
    ")"
   ]
  },
  {
   "cell_type": "code",
   "execution_count": 9,
   "metadata": {},
   "outputs": [],
   "source": [
    "# Combine into one sequence column\n",
    "sequence_cols = [\n",
    "    \"narrative\",\n",
    "    \"issue\",\n",
    "    \"sub_issue\",\n",
    "    \"company\",\n",
    "    \"company_response\",\n",
    "    \"tags\",\n",
    "]\n",
    "df.loc[:, sequence_cols] = df[sequence_cols].fillna(\"\")\n",
    "df.loc[:, \"sequence\"] = (\n",
    "    df[\"narrative\"]\n",
    "    + \" \"\n",
    "    + df[\"issue\"]\n",
    "    + \" \"\n",
    "    + df[\"sub_issue\"]\n",
    "    + \" \"\n",
    "    + df[\"company\"]\n",
    "    + \" \"\n",
    "    + df[\"company_response\"]\n",
    "    + \" \"\n",
    "    + df[\"tags\"]\n",
    ")\n",
    "data = df[[\"id\", \"node_id\", \"label\", \"sequence\", \"state\", \"narrative_na\"]].astype(\"str\")"
   ]
  },
  {
   "cell_type": "markdown",
   "metadata": {},
   "source": [
    "### Save to Parquet"
   ]
  },
  {
   "cell_type": "code",
   "execution_count": null,
   "metadata": {},
   "outputs": [],
   "source": [
    "save_to_parquet(\n",
    "    data=processed_df,\n",
    "    cols=processed_df.columns.tolist(),\n",
    "    loc=\"../data/\",\n",
    "    filename=\"processed\",\n",
    ")"
   ]
  }
 ],
 "metadata": {
  "kernelspec": {
   "display_name": "Python 3 (ipykernel)",
   "language": "python",
   "name": "python3"
  },
  "language_info": {
   "codemirror_mode": {
    "name": "ipython",
    "version": 3
   },
   "file_extension": ".py",
   "mimetype": "text/x-python",
   "name": "python",
   "nbconvert_exporter": "python",
   "pygments_lexer": "ipython3",
   "version": "3.9.7"
  },
  "varInspector": {
   "cols": {
    "lenName": 16,
    "lenType": 16,
    "lenVar": 40
   },
   "kernels_config": {
    "python": {
     "delete_cmd_postfix": "",
     "delete_cmd_prefix": "del ",
     "library": "var_list.py",
     "varRefreshCmd": "print(var_dic_list())"
    },
    "r": {
     "delete_cmd_postfix": ") ",
     "delete_cmd_prefix": "rm(",
     "library": "var_list.r",
     "varRefreshCmd": "cat(var_dic_list()) "
    }
   },
   "types_to_exclude": [
    "module",
    "function",
    "builtin_function_or_method",
    "instance",
    "_Feature"
   ],
   "window_display": false
  }
 },
 "nbformat": 4,
 "nbformat_minor": 4
}
